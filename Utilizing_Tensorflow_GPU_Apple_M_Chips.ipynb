{
 "cells": [
  {
   "cell_type": "markdown",
   "id": "90568562",
   "metadata": {},
   "source": [
    "### Installing Virtual Environment For Tensorflow with Apple GPU Support"
   ]
  },
  {
   "cell_type": "code",
   "execution_count": null,
   "id": "a225b3db-c61a-450d-a3bb-7ef3951e3a1f",
   "metadata": {},
   "outputs": [],
   "source": [
    "# Create a new conda environment\n",
    "!conda create --name tf_metal python=3.9\n",
    "!conda activate tf_metal\n",
    "\n",
    "# Install TensorFlow for Mac M Chip Computers\n",
    "!conda install -c apple tensorflow-deps\n",
    "!pip install tensorflow-macos\n",
    "!pip install tensorflow-metal"
   ]
  },
  {
   "cell_type": "code",
   "execution_count": null,
   "id": "705271ca-d611-4562-bc36-ec7df7f62a30",
   "metadata": {},
   "outputs": [],
   "source": [
    "# Ensure that the installation was successful\n",
    "!pip install matplotlib\n",
    "!pip install --upgrade tensorflow-macos\n",
    "!pip install --upgrade tensorflow-metal"
   ]
  },
  {
   "cell_type": "code",
   "execution_count": null,
   "id": "21931b6a-7367-4854-81ac-4bb729696cae",
   "metadata": {},
   "outputs": [],
   "source": [
    "# Check if GPU is in the list of devices\n",
    "from tensorflow.python.client import device_lib\n",
    "print(device_lib.list_local_devices())"
   ]
  },
  {
   "cell_type": "code",
   "execution_count": 1,
   "id": "a0c0ab5c",
   "metadata": {},
   "outputs": [
    {
     "name": "stdout",
     "output_type": "stream",
     "text": [
      "Num GPUs Available:  1\n"
     ]
    }
   ],
   "source": [
    "# Alternatively, you can use the following code to check if a GPU is available\n",
    "import tensorflow as tf\n",
    "print(\"Num GPUs Available: \", len(tf.config.list_physical_devices('GPU')))"
   ]
  },
  {
   "cell_type": "markdown",
   "id": "775bf431",
   "metadata": {},
   "source": [
    "### Import Packages"
   ]
  },
  {
   "cell_type": "code",
   "execution_count": 2,
   "id": "ba73775f-acfb-4488-a6fe-51220ca625c3",
   "metadata": {},
   "outputs": [],
   "source": [
    "import tensorflow as tf\n",
    "from tensorflow.keras import datasets, layers, models\n",
    "import matplotlib.pyplot as plt"
   ]
  },
  {
   "cell_type": "markdown",
   "id": "0ede1ffe",
   "metadata": {},
   "source": [
    "#### Downlad Data"
   ]
  },
  {
   "cell_type": "code",
   "execution_count": 3,
   "id": "2c59e543-8d0b-40ca-9474-45dacd138df5",
   "metadata": {},
   "outputs": [],
   "source": [
    "(train_images, train_labels), (test_images, test_labels) = datasets.cifar10.load_data()\n",
    "\n",
    "# Normalize pixel values to be between 0 and 1\n",
    "train_images, test_images = train_images / 255.0, test_images / 255.0"
   ]
  },
  {
   "cell_type": "markdown",
   "id": "e4acc7df",
   "metadata": {},
   "source": [
    "#### Create Convolutional Neural Network Model"
   ]
  },
  {
   "cell_type": "code",
   "execution_count": 4,
   "id": "7bb11f98-a2b6-420b-a484-be82f148c37b",
   "metadata": {},
   "outputs": [
    {
     "name": "stderr",
     "output_type": "stream",
     "text": [
      "2024-02-16 18:00:12.589603: I metal_plugin/src/device/metal_device.cc:1154] Metal device set to: Apple M2 Pro\n",
      "2024-02-16 18:00:12.589659: I metal_plugin/src/device/metal_device.cc:296] systemMemory: 16.00 GB\n",
      "2024-02-16 18:00:12.589668: I metal_plugin/src/device/metal_device.cc:313] maxCacheSize: 5.33 GB\n",
      "2024-02-16 18:00:12.589736: I tensorflow/core/common_runtime/pluggable_device/pluggable_device_factory.cc:306] Could not identify NUMA node of platform GPU ID 0, defaulting to 0. Your kernel may not have been built with NUMA support.\n",
      "2024-02-16 18:00:12.589769: I tensorflow/core/common_runtime/pluggable_device/pluggable_device_factory.cc:272] Created TensorFlow device (/job:localhost/replica:0/task:0/device:GPU:0 with 0 MB memory) -> physical PluggableDevice (device: 0, name: METAL, pci bus id: <undefined>)\n"
     ]
    }
   ],
   "source": [
    "model = models.Sequential()\n",
    "model.add(layers.Conv2D(32, (3, 3), activation='relu', input_shape=(32, 32, 3)))\n",
    "model.add(layers.MaxPooling2D((2, 2)))\n",
    "model.add(layers.Conv2D(64, (3, 3), activation='relu'))\n",
    "model.add(layers.MaxPooling2D((2, 2)))\n",
    "model.add(layers.Conv2D(64, (3, 3), activation='relu'))\n",
    "# Ignore the warning \n",
    "# \"Could not identify NUMA node of platform GPU ID 0, defaulting to 0. Your kernel may not have been built with NUMA support.\" \n",
    "# As long as you see following message in training phase:\n",
    "# \"Plugin optimizer for device_type GPU is enabled.\""
   ]
  },
  {
   "cell_type": "code",
   "execution_count": 5,
   "id": "892012f1-32f8-45ca-873f-fa2c23b9019a",
   "metadata": {},
   "outputs": [],
   "source": [
    "model.add(layers.Flatten())\n",
    "model.add(layers.Dense(64, activation='relu'))\n",
    "model.add(layers.Dense(10))"
   ]
  },
  {
   "cell_type": "markdown",
   "id": "6e31a8b5",
   "metadata": {},
   "source": [
    "### Training"
   ]
  },
  {
   "cell_type": "code",
   "execution_count": 6,
   "id": "b84fccd2-b855-4a59-8601-257a2950c349",
   "metadata": {},
   "outputs": [
    {
     "name": "stdout",
     "output_type": "stream",
     "text": [
      "Epoch 1/10\n",
      "   1/1563 [..............................] - ETA: 8:33 - loss: 2.3397 - accuracy: 0.0625"
     ]
    },
    {
     "name": "stderr",
     "output_type": "stream",
     "text": [
      "2024-02-16 18:00:58.272077: I tensorflow/core/grappler/optimizers/custom_graph_optimizer_registry.cc:117] Plugin optimizer for device_type GPU is enabled.\n"
     ]
    },
    {
     "name": "stdout",
     "output_type": "stream",
     "text": [
      "1563/1563 [==============================] - 12s 8ms/step - loss: 1.5243 - accuracy: 0.4451 - val_loss: 1.2220 - val_accuracy: 0.5607\n",
      "Epoch 2/10\n",
      "1563/1563 [==============================] - 12s 8ms/step - loss: 1.1705 - accuracy: 0.5872 - val_loss: 1.1196 - val_accuracy: 0.6072\n",
      "Epoch 3/10\n",
      "1563/1563 [==============================] - 12s 8ms/step - loss: 1.0892 - accuracy: 0.6252 - val_loss: 1.1287 - val_accuracy: 0.6113\n",
      "Epoch 4/10\n",
      "1563/1563 [==============================] - 12s 8ms/step - loss: 1.1502 - accuracy: 0.6159 - val_loss: 1.0981 - val_accuracy: 0.6315\n",
      "Epoch 5/10\n",
      "1563/1563 [==============================] - 12s 8ms/step - loss: 1.4168 - accuracy: 0.5794 - val_loss: 1.9512 - val_accuracy: 0.5022\n",
      "Epoch 6/10\n",
      "1563/1563 [==============================] - 12s 8ms/step - loss: 2.1735 - accuracy: 0.5410 - val_loss: 3.7644 - val_accuracy: 0.4750\n",
      "Epoch 7/10\n",
      "1563/1563 [==============================] - 12s 8ms/step - loss: 4.6364 - accuracy: 0.5038 - val_loss: 8.4079 - val_accuracy: 0.4331\n",
      "Epoch 8/10\n",
      "1563/1563 [==============================] - 12s 7ms/step - loss: 12.4423 - accuracy: 0.4688 - val_loss: 15.6463 - val_accuracy: 0.4560\n",
      "Epoch 9/10\n",
      "1563/1563 [==============================] - 11s 7ms/step - loss: 26.9292 - accuracy: 0.4523 - val_loss: 42.6253 - val_accuracy: 0.4088\n",
      "Epoch 10/10\n",
      "1563/1563 [==============================] - 11s 7ms/step - loss: 57.9744 - accuracy: 0.4304 - val_loss: 78.3184 - val_accuracy: 0.3963\n"
     ]
    }
   ],
   "source": [
    "model.compile(optimizer='adam',\n",
    "              loss=tf.keras.losses.SparseCategoricalCrossentropy(from_logits=True),\n",
    "              metrics=['accuracy'])\n",
    "\n",
    "history = model.fit(train_images, train_labels, epochs=10, \n",
    "                    validation_data=(test_images, test_labels))\n",
    "# Here in this step we see the message so we successfully run the training with GPU support:\n",
    "# \"Plugin optimizer for device_type GPU is enabled.\""
   ]
  },
  {
   "cell_type": "markdown",
   "id": "273733e6",
   "metadata": {},
   "source": [
    "### Check the Model Performance"
   ]
  },
  {
   "cell_type": "code",
   "execution_count": 7,
   "id": "45cd8735-c551-41b5-97be-c30f1a33c43b",
   "metadata": {},
   "outputs": [
    {
     "name": "stdout",
     "output_type": "stream",
     "text": [
      "313/313 - 1s - loss: 78.3184 - accuracy: 0.3963 - 932ms/epoch - 3ms/step\n",
      "\n",
      "Test accuracy: 0.39629998803138733\n"
     ]
    }
   ],
   "source": [
    "test_loss, test_acc = model.evaluate(test_images,  test_labels, verbose=2)\n",
    "print('\\nTest accuracy:', test_acc)"
   ]
  },
  {
   "cell_type": "code",
   "execution_count": 8,
   "id": "a540d794-dd2e-4f93-b6ab-1ccde4e55fc4",
   "metadata": {},
   "outputs": [
    {
     "data": {
      "image/png": "[encoded data removed]",
      "text/plain": [
       "<Figure size 640x480 with 1 Axes>"
      ]
     },
     "metadata": {},
     "output_type": "display_data"
    }
   ],
   "source": [
    "plt.plot(history.history['accuracy'], label='accuracy')\n",
    "plt.plot(history.history['val_accuracy'], label = 'val_accuracy')\n",
    "plt.xlabel('Epoch')\n",
    "plt.ylabel('Accuracy')\n",
    "plt.ylim([0, 1])\n",
    "plt.legend(loc='lower right')\n",
    "\n",
    "# For displaying the plot if you are using a notebook environment\n",
    "plt.show()"
   ]
  }
 ],
 "metadata": {
  "kernelspec": {
   "display_name": "Python 3 (ipykernel)",
   "language": "python",
   "name": "python3"
  },
  "language_info": {
   "codemirror_mode": {
    "name": "ipython",
    "version": 3
   },
   "file_extension": ".py",
   "mimetype": "text/x-python",
   "name": "python",
   "nbconvert_exporter": "python",
   "pygments_lexer": "ipython3",
   "version": "3.9.18"
  }
 },
 "nbformat": 4,
 "nbformat_minor": 5
}
